{
 "cells": [
  {
   "cell_type": "markdown",
   "metadata": {},
   "source": [
    "# Homework #2\n",
    "\n",
    "## NIH Chest X-ray Dataset Sample\n",
    "Chest X-ray exams are one of the most frequent and cost-effective medical imaging examinations available. However, clinical diagnosis of a chest X-ray can be challenging and sometimes more difficult than diagnosis via chest CT imaging. The lack of large publicly available datasets with annotations means it is still very difficult, if not impossible, to achieve clinically relevant computer-aided detection and diagnosis (CAD) in real world medical sites with chest X-rays. One major hurdle in creating large X-ray image datasets is the lack resources for labeling so many images. Prior to the release of this dataset, Openi was the largest publicly available source of chest X-ray images with 4,143 images available.\n",
    "\n",
    "The NIH Chest X-ray Dataset is comprised of 112,120 X-ray images with disease labels from 30,805 unique patients. To create these labels, the authors used Natural Language Processing to text-mine disease classifications from the associated radiological reports. The labels are expected to be >90% accurate and suitable for weakly-supervised learning. The original radiology reports are not publicly available but you can find more details on the labeling process in this Open Access paper: \"ChestX-ray8: Hospital-scale Chest X-ray Database and Benchmarks on Weakly-Supervised Classification and Localization of Common Thorax Diseases.\" (Wang et al.)\n",
    "\n",
    "There are several labels that described the findings of the x-rays. For our purposes, I have made this a binary classification task and re-labeled the images as either **Infiltration** or **Not Infiltration**. A pulmonary infiltrate is a substance denser than air, such as pus, blood, or protein, which lingers within the parenchyma of the lungs. Pulmonary infiltrates are associated with pneumonia, tuberculosis, and nocardiosis.\n",
    "\n",
    "The data are contained in a folder named **xray-small** and you can access it on the [course github](). There are 950 Infiltration images, and 950 Not Infiltration images that are labeled **\"Infiltration_1.png\" - \"Infiltration_950.png\"** and **\"Not_Infiltration_1.png\" - \"Not_Infiltration_950.png\"**. If you are working in JupyterHub on Canvas, you need to first download the data and then upload the images to JupyterHub. If you are working on your on installation of Jupyter notebook, download the images to your machine.\n",
    "\n",
    "Follow the example code from the **5.2-using-convnets-with-small-datasets.ipynb** notebook in the In-class examples folder on the [course github](https://github.com/hmattie/BST261Spring2018/tree/master/In-class%20Examples)."
   ]
  }
 ],
 "metadata": {
  "kernelspec": {
   "display_name": "Python 3",
   "language": "python",
   "name": "python3"
  },
  "language_info": {
   "codemirror_mode": {
    "name": "ipython",
    "version": 3
   },
   "file_extension": ".py",
   "mimetype": "text/x-python",
   "name": "python",
   "nbconvert_exporter": "python",
   "pygments_lexer": "ipython3",
   "version": "3.6.3"
  }
 },
 "nbformat": 4,
 "nbformat_minor": 2
}
